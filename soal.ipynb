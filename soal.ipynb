{
 "cells": [
  {
   "cell_type": "code",
   "execution_count": 9,
   "metadata": {},
   "outputs": [
    {
     "name": "stdout",
     "output_type": "stream",
     "text": [
      "1945-08-17 00:00:00 selisih 28781 hari\n",
      "1785-11-11 00:00:00 selisih 87133 hari\n",
      "1783-06-08 00:00:00 selisih 88020 hari\n",
      "1889-05-02 00:00:00 selisih 49341 hari\n"
     ]
    }
   ],
   "source": [
    "#Nomor 1\n",
    "import re\n",
    "from datetime import datetime, date\n",
    "\n",
    "teks = \"Pada tanggal 1945-08-17 Indonesia merdeka. Indonesia memiliki beberapa pahlawan nasional, seperti Pangeran Diponegoro (TL: 1785-11-11), Pattimura (TL: 1783-06-08) dan Ki Hajar Dewantara (1889-05-02).\"\n",
    "\n",
    "tgll = re.findall(r'\\b(\\d{4}-\\d{2}-\\d{2})\\b', teks)\n",
    "\n",
    "hasil = []\n",
    "for tanggal in tgll:\n",
    "    tgll_obj = datetime.strptime(tanggal, '%Y-%m-%d')\n",
    "\n",
    "    tgll_str = tgll_obj.strftime('%Y-%m-%d 00:00:00')\n",
    "    \n",
    "    selisih = (date.today() - tgll_obj.date()).days\n",
    "\n",
    "    hasil.append(f'{tgll_str} selisih {selisih} hari')\n",
    "\n",
    "for hasil2 in hasil:\n",
    "    print(hasil2)"
   ]
  },
  {
   "cell_type": "code",
   "execution_count": 10,
   "metadata": {},
   "outputs": [
    {
     "name": "stdout",
     "output_type": "stream",
     "text": [
      "anton@mail.com username: anton , password: zaD2aMMT\n",
      "budi@gmail.co.id username: budi , password: OVNKEEqh\n",
      "slamet@getnada.com username: slamet , password: wWYXvvoo\n",
      "matahari@tokopedia.com username: matahari , password: BdgomKjD\n"
     ]
    }
   ],
   "source": [
    "#Nomor 2\n",
    "import re\n",
    "import string\n",
    "import random\n",
    "\n",
    "text = \"\"\"\n",
    "Berikut adalah daftar email dan nama pengguna dari mailing list:\n",
    "anton@mail.com dimiliki oleh antonius\n",
    "budi@gmail.co.id dimiliki oleh budi anwari\n",
    "slamet@getnada.com dimiliki oleh slamet slumut\n",
    "matahari@tokopedia.com dimiliki oleh toko matahari\n",
    "\"\"\"\n",
    "\n",
    "email = re.findall(r'\\b[A-Za-z0-9._%+-]+@[A-Za-z0-9.-]+\\.[A-Z|a-z]{2,}\\b', text)\n",
    "\n",
    "hasil = []\n",
    "for k in email:\n",
    "    usname = k.split('@')[0]\n",
    "    passw = ''.join(random.choice(string.ascii_letters + string.digits) for _ in range(8))\n",
    "    hasil.append(f\"{k} username: {usname} , password: {passw}\")\n",
    "\n",
    "for l in hasil:\n",
    "    print(l)"
   ]
  }
 ],
 "metadata": {
  "kernelspec": {
   "display_name": "Python 3",
   "language": "python",
   "name": "python3"
  },
  "language_info": {
   "codemirror_mode": {
    "name": "ipython",
    "version": 3
   },
   "file_extension": ".py",
   "mimetype": "text/x-python",
   "name": "python",
   "nbconvert_exporter": "python",
   "pygments_lexer": "ipython3",
   "version": "3.12.0"
  }
 },
 "nbformat": 4,
 "nbformat_minor": 2
}
